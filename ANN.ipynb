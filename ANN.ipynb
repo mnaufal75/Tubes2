{
 "cells": [
  {
   "cell_type": "code",
   "execution_count": 201,
   "metadata": {},
   "outputs": [],
   "source": [
    "import numpy as np\n",
    "import pandas as pd"
   ]
  },
  {
   "cell_type": "code",
   "execution_count": 202,
   "metadata": {},
   "outputs": [],
   "source": [
    "# from sklearn.datasets import load_breast_cancer\n",
    "\n",
    "# breast_cancer = load_breast_cancer()\n",
    "# X_train = breast_cancer.data\n",
    "# y_train = breast_cancer.target"
   ]
  },
  {
   "cell_type": "code",
   "execution_count": 203,
   "metadata": {},
   "outputs": [],
   "source": [
    "X_train = np.asarray([[1, 2],\n",
    "                      [3, 4],\n",
    "                      [5, 6],\n",
    "                      [7, 8],\n",
    "                      [9, 10]])\n",
    "y_train = np.asarray([[1],\n",
    "                     [0],\n",
    "                     [1],\n",
    "                     [0],\n",
    "                     [1]])"
   ]
  },
  {
   "cell_type": "code",
   "execution_count": 178,
   "metadata": {},
   "outputs": [],
   "source": [
    "# print(breast_cancer.data)"
   ]
  },
  {
   "cell_type": "code",
   "execution_count": 204,
   "metadata": {},
   "outputs": [],
   "source": [
    "import math\n",
    "\n",
    "def sigmoid(x):\n",
    "    return 1 / (1 + math.exp(-x))\n",
    "\n",
    "# Fungsi sigmoid untuk numpy array\n",
    "sigmoid_v = np.vectorize(sigmoid)"
   ]
  },
  {
   "cell_type": "code",
   "execution_count": 205,
   "metadata": {},
   "outputs": [],
   "source": [
    "class Dense:\n",
    "    def __init__(self, layers, activation):\n",
    "        # self.layers = np.zeros((1, layers))\n",
    "        # self.layers = np.random.randn(layers[l], layers[l-1])*0.01\n",
    "        self.layers = layers\n",
    "        self.activation = activation"
   ]
  },
  {
   "cell_type": "code",
   "execution_count": 206,
   "metadata": {},
   "outputs": [],
   "source": [
    "class Sequential:\n",
    "    def __init__(self, input_shape, denses):\n",
    "        self.denses = denses\n",
    "        self.input_shape = input_shape\n",
    "        self.weights = []\n",
    "    \n",
    "    def summary():\n",
    "        None\n",
    "    \n",
    "    def set_weight(self):\n",
    "        last_dense = 0\n",
    "        for j, dense in enumerate(self.denses):\n",
    "            if (j == 0):\n",
    "                # print(\"Epoch: \", epoch, dense.layers)\n",
    "                self.weights.append(np.random.randn(self.input_shape, dense.layers))\n",
    "                self.weights.append(np.random.rand(1, dense.layers))\n",
    "                last_dense = dense.layers\n",
    "            else:\n",
    "                # print(\"Epoch: \", epoch, last_dense, dense.layers)\n",
    "                self.weights.append(np.random.randn(last_dense, dense.layers))\n",
    "                self.weights.append(np.random.rand(1, dense.layers))\n",
    "                last_dense = dense.layers\n",
    "    \n",
    "    def get_weight(self):\n",
    "        # print(self.weights)\n",
    "        return self.weights\n",
    "    \n",
    "    def compile():\n",
    "        None\n",
    "    \n",
    "    def feedForward(self, X_train, y_train, mat):\n",
    "        result = X_train\n",
    "        it = iter(self.weights)\n",
    "        for w in it:\n",
    "            result = np.matmul(result, w) + next(it)\n",
    "            # print(result)\n",
    "            mat.append(result)\n",
    "\n",
    "        return sigmoid_v(result)\n",
    "    \n",
    "    \n",
    "    def backPropagation(self, X_train, y_train, target, mat):\n",
    "        # print(\"mat\", mat)\n",
    "        err = []\n",
    "        for i, m in enumerate(reversed(mat)):\n",
    "            if i == 0:\n",
    "                # print(\"err: \", m * (1 - m) * (target - m))\n",
    "                # print(\"m: \", m)\n",
    "                err.insert(0, m * (1 - m) * (target - m))\n",
    "            else:\n",
    "                # print(\"err: \", m * (1 - m) * self.get_weight()[len(m) - i - 1] * err[0])\n",
    "                # print(\"m: \", m)\n",
    "                err.insert(0, m * (1 - m) * err[len(err) - 1])\n",
    "        return err\n",
    "    \n",
    "    def updateWeights(self, X_train, y_train, mat, err, momentum, learning_rate):\n",
    "        print(mat)\n",
    "        print(err)\n",
    "        if (momentum):\n",
    "            None\n",
    "        else:\n",
    "            it = iter(self.weights)\n",
    "            for i, w in enumerate(it):\n",
    "                print(i, \" a\", w)\n",
    "                print(i, \" b\", w + (learning_rate * np.multiply(err[i], mat[i])))\n",
    "                self.weights[i] = w + (learning_rate * np.multiply(err[i], mat[i]))\n",
    "                next(it)\n",
    "    \n",
    "    def fit(self, X_train, y_train, epochs):\n",
    "        mat = []\n",
    "        self.set_weight()\n",
    "        for epoch in range(epochs):\n",
    "            self.feedForward(X_train, y_train, mat)\n",
    "            err = self.backPropagation(X_train, y_train, 0, mat)\n",
    "            self.updateWeights(X_train, y_train, mat, err, momentum=False, learning_rate=0.2)\n",
    "        return mat"
   ]
  },
  {
   "cell_type": "code",
   "execution_count": 207,
   "metadata": {},
   "outputs": [
    {
     "name": "stdout",
     "output_type": "stream",
     "text": [
      "[array([[-0.5405364 ,  0.55778436, -0.3398584 , -1.46500974,  1.52876232]]), array([[-0.61469796,  5.25864716, -1.68846678]]), array([[2.18421087]])]\n",
      "[array([[ -4.70451745,   1.39353732,  -2.57261675, -20.40221521,\n",
      "         -4.56686994]]), array([[  -5.60752526, -126.52136385,  -25.64574788]]), array([[5.64960615]])]\n",
      "0  a [[-0.30327632  0.27427034 -1.14357335  1.49936386 -1.01216814]\n",
      " [-0.38879902 -0.12308817  0.24133075 -1.74868266  0.8229837 ]]\n",
      "0  b [[ 0.20531627  0.42972901 -0.96870826  7.47725266 -2.40849988]\n",
      " [ 0.11979357  0.03237049  0.41619583  4.22920614 -0.57334803]]\n",
      "1  a [[ 0.05368582  0.6938255  -0.42204348]\n",
      " [ 0.71806544  1.69542152 -0.28852912]\n",
      " [ 1.2186138  -0.26396734  0.69243018]\n",
      " [ 0.56369818 -1.11477283  0.1595962 ]\n",
      " [-0.19267421  1.30186705 -1.32135198]]\n",
      "1  b [[   0.74307268 -132.37241671    8.23835519]\n",
      " [   1.40745231 -131.3708207     8.37186955]\n",
      " [   1.90800067 -133.33020955    9.35282885]\n",
      " [   1.25308505 -134.18101504    8.81999487]\n",
      " [   0.49671266 -131.76437517    7.33904669]]\n",
      "2  a [[0.23384434]\n",
      " [0.52172333]\n",
      " [0.75703731]]\n",
      "2  b [[2.70183057]\n",
      " [2.98970956]\n",
      " [3.22502354]]\n"
     ]
    },
    {
     "data": {
      "text/plain": [
       "[array([[-0.5405364 ,  0.55778436, -0.3398584 , -1.46500974,  1.52876232]]),\n",
       " array([[-0.61469796,  5.25864716, -1.68846678]]),\n",
       " array([[2.18421087]])]"
      ]
     },
     "execution_count": 207,
     "metadata": {},
     "output_type": "execute_result"
    }
   ],
   "source": [
    "model = Sequential(2, [\n",
    "    Dense(5, 'sigmoid'),\n",
    "    Dense(3, 'sigmoid'),\n",
    "    Dense(1, 'sigmoid')\n",
    "])\n",
    "\n",
    "model.fit(X_train[0], y_train, 1)"
   ]
  }
 ],
 "metadata": {
  "kernelspec": {
   "display_name": "Python 3",
   "language": "python",
   "name": "python3"
  },
  "language_info": {
   "codemirror_mode": {
    "name": "ipython",
    "version": 3
   },
   "file_extension": ".py",
   "mimetype": "text/x-python",
   "name": "python",
   "nbconvert_exporter": "python",
   "pygments_lexer": "ipython3",
   "version": "3.7.0"
  }
 },
 "nbformat": 4,
 "nbformat_minor": 2
}
