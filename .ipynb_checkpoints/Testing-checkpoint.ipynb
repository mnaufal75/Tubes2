{
 "cells": [
  {
   "cell_type": "code",
   "execution_count": 3,
   "metadata": {},
   "outputs": [],
   "source": [
    "import numpy as np\n",
    "import pandas as pd"
   ]
  },
  {
   "cell_type": "code",
   "execution_count": 4,
   "metadata": {},
   "outputs": [],
   "source": [
    "from sklearn.datasets import load_iris"
   ]
  },
  {
   "cell_type": "code",
   "execution_count": 5,
   "metadata": {},
   "outputs": [],
   "source": [
    "iris = load_iris()\n",
    "X_train = iris.data\n",
    "y_train = iris.target"
   ]
  },
  {
   "cell_type": "code",
   "execution_count": 7,
   "metadata": {},
   "outputs": [],
   "source": [
    "class Dense:\n",
    "    def __init__(self, layers, activation):\n",
    "        # self.layers = np.zeros((1, layers))\n",
    "        # self.layers = np.random.randn(layers[l], layers[l-1])*0.01\n",
    "        self.layers = layers\n",
    "        self.activation = activation"
   ]
  },
  {
   "cell_type": "code",
   "execution_count": 8,
   "metadata": {},
   "outputs": [
    {
     "data": {
      "text/plain": [
       "<__main__.Dense at 0x15cb710828>"
      ]
     },
     "execution_count": 8,
     "metadata": {},
     "output_type": "execute_result"
    }
   ],
   "source": [
    "Dense(10, activation='sigmoid')"
   ]
  },
  {
   "cell_type": "code",
   "execution_count": 57,
   "metadata": {},
   "outputs": [],
   "source": [
    "class Sequential:\n",
    "    def __init__(self, input_shape, denses):\n",
    "        self.denses = denses\n",
    "        self.input_shape = input_shape\n",
    "        self.weights = []\n",
    "    \n",
    "    def summary():\n",
    "        None\n",
    "    \n",
    "    def get_weight(self):\n",
    "        return self.weights\n",
    "    \n",
    "    def compile():\n",
    "        None\n",
    "    \n",
    "    def feedForward(self, X_train, y_train):\n",
    "        result = 0\n",
    "        it = iter(self.weights)\n",
    "        for w in it:\n",
    "            # print(w, next(it))\n",
    "            result = w * \n",
    "        return result\n",
    "    \n",
    "    def backPropagation(self, X_train, y_train):\n",
    "        result = 0\n",
    "        \n",
    "        return result\n",
    "    \n",
    "    def fit(self, X_train, y_train, epochs):\n",
    "        for epoch in range(epochs):\n",
    "            last_dense = 0\n",
    "            for j, dense in enumerate(self.denses):\n",
    "                if (j == 0):\n",
    "                    # print(\"Epoch: \", epoch, dense.layers)\n",
    "                    self.weights.append(np.random.randn(self.input_shape, dense.layers))\n",
    "                    self.weights.append(np.random.rand(1, dense.layers))\n",
    "                    last_dense = dense.layers\n",
    "                else:\n",
    "                    # print(\"Epoch: \", epoch, last_dense, dense.layers)\n",
    "                    self.weights.append(np.random.randn(last_dense, dense.layers))\n",
    "                    self.weights.append(np.random.rand(1, dense.layers))\n",
    "                    last_dense = dense.layers\n",
    "            self.feedForward()\n",
    "            self.backPropagation()\n",
    "        return np.array(2)"
   ]
  },
  {
   "cell_type": "code",
   "execution_count": 58,
   "metadata": {},
   "outputs": [
    {
     "name": "stdout",
     "output_type": "stream",
     "text": [
      "[[ 1.72804754  1.30159126  3.10054806]\n",
      " [-0.32938359  0.40401534 -0.27059707]\n",
      " [ 0.02822148 -0.01857414 -1.92848694]\n",
      " [-0.04655864 -0.17426897  0.59789407]] [[0.2352578  0.28680017 0.38523736]]\n",
      "[[ 2.20296991 -0.15503621 -0.98843036 -2.26765578 -1.17950392]\n",
      " [-0.27578764 -0.0256255  -1.25464625  1.60054757 -1.21955369]\n",
      " [ 0.2579676   0.53348487  0.97934893  0.14398673  0.32624694]] [[0.46896585 0.25414581 0.67416426 0.66388752 0.50735551]]\n"
     ]
    },
    {
     "data": {
      "text/plain": [
       "[array([[ 1.72804754,  1.30159126,  3.10054806],\n",
       "        [-0.32938359,  0.40401534, -0.27059707],\n",
       "        [ 0.02822148, -0.01857414, -1.92848694],\n",
       "        [-0.04655864, -0.17426897,  0.59789407]]),\n",
       " array([[0.2352578 , 0.28680017, 0.38523736]]),\n",
       " array([[ 2.20296991, -0.15503621, -0.98843036, -2.26765578, -1.17950392],\n",
       "        [-0.27578764, -0.0256255 , -1.25464625,  1.60054757, -1.21955369],\n",
       "        [ 0.2579676 ,  0.53348487,  0.97934893,  0.14398673,  0.32624694]]),\n",
       " array([[0.46896585, 0.25414581, 0.67416426, 0.66388752, 0.50735551]])]"
      ]
     },
     "execution_count": 58,
     "metadata": {},
     "output_type": "execute_result"
    }
   ],
   "source": [
    "model = Sequential(4, [\n",
    "    Dense(3, 'sigmoid'),\n",
    "    Dense(5, 'sigmoid')\n",
    "])\n",
    "model.fit(X_train, y_train, 1)\n",
    "model.get_weight()"
   ]
  },
  {
   "cell_type": "code",
   "execution_count": 2,
   "metadata": {},
   "outputs": [
    {
     "name": "stderr",
     "output_type": "stream",
     "text": [
      "C:\\Users\\mnaufal75\\Anaconda3\\lib\\site-packages\\h5py\\__init__.py:36: FutureWarning: Conversion of the second argument of issubdtype from `float` to `np.floating` is deprecated. In future, it will be treated as `np.float64 == np.dtype(float).type`.\n",
      "  from ._conv import register_converters as _register_converters\n",
      "Using TensorFlow backend.\n"
     ]
    }
   ],
   "source": [
    "from keras.models import Sequential\n",
    "from keras.layers import Activation\n",
    "from keras.layers.core import Dense\n",
    "from keras.optimizers import Adam"
   ]
  },
  {
   "cell_type": "code",
   "execution_count": 10,
   "metadata": {},
   "outputs": [],
   "source": [
    "model = Sequential([\n",
    "    Dense(3, input_shape=(4,)),\n",
    "    Dense(5),\n",
    "    Activation('softmax')\n",
    "])"
   ]
  },
  {
   "cell_type": "code",
   "execution_count": 11,
   "metadata": {},
   "outputs": [
    {
     "name": "stdout",
     "output_type": "stream",
     "text": [
      "_________________________________________________________________\n",
      "Layer (type)                 Output Shape              Param #   \n",
      "=================================================================\n",
      "dense_8 (Dense)              (None, 3)                 15        \n",
      "_________________________________________________________________\n",
      "dense_9 (Dense)              (None, 5)                 20        \n",
      "_________________________________________________________________\n",
      "activation_1 (Activation)    (None, 5)                 0         \n",
      "=================================================================\n",
      "Total params: 35\n",
      "Trainable params: 35\n",
      "Non-trainable params: 0\n",
      "_________________________________________________________________\n"
     ]
    }
   ],
   "source": [
    "model.summary()"
   ]
  },
  {
   "cell_type": "code",
   "execution_count": 19,
   "metadata": {},
   "outputs": [
    {
     "data": {
      "text/plain": [
       "array([0., 0., 0., 0., 0.], dtype=float32)"
      ]
     },
     "execution_count": 19,
     "metadata": {},
     "output_type": "execute_result"
    }
   ],
   "source": [
    "# model.layers[0].get_weigths()[0]\n",
    "model.get_weights()[3]"
   ]
  },
  {
   "cell_type": "code",
   "execution_count": 27,
   "metadata": {},
   "outputs": [
    {
     "data": {
      "text/plain": [
       "[array([[-0.580605  , -0.727373  , -0.76595575],\n",
       "        [-0.49097425, -0.30920923,  0.35257173],\n",
       "        [-0.3797276 , -0.5025406 ,  0.15941918],\n",
       "        [-0.3985709 , -0.29624254,  0.51769125]], dtype=float32),\n",
       " array([0., 0., 0.], dtype=float32),\n",
       " array([[-0.6563282 ,  0.44604963, -0.01498711, -0.06846285,  0.1532709 ],\n",
       "        [ 0.6538902 ,  0.6062872 , -0.23155707,  0.23573488,  0.66832596],\n",
       "        [-0.3938982 ,  0.25691217, -0.68572474,  0.8170499 , -0.13838059]],\n",
       "       dtype=float32),\n",
       " array([0., 0., 0., 0., 0.], dtype=float32)]"
      ]
     },
     "execution_count": 27,
     "metadata": {},
     "output_type": "execute_result"
    }
   ],
   "source": [
    "model.get_weights()"
   ]
  },
  {
   "cell_type": "code",
   "execution_count": 8,
   "metadata": {},
   "outputs": [
    {
     "data": {
      "text/plain": [
       "[array([[-0.01332587,  0.869275  ,  0.51595056],\n",
       "        [ 0.26398158,  0.49659693,  0.57561135],\n",
       "        [-0.27685928, -0.32614207,  0.50670516],\n",
       "        [ 0.79424334,  0.82041025,  0.15872467]], dtype=float32),\n",
       " array([0., 0., 0.], dtype=float32),\n",
       " array([[-0.7070038 , -0.71889824, -0.72857934, -0.3865247 ,  0.4567067 ],\n",
       "        [-0.69658434, -0.21587223,  0.13824695, -0.46602353,  0.16586465],\n",
       "        [ 0.8440402 , -0.27940178, -0.14726073, -0.72627836,  0.76546305]],\n",
       "       dtype=float32),\n",
       " array([0., 0., 0., 0., 0.], dtype=float32)]"
      ]
     },
     "execution_count": 8,
     "metadata": {},
     "output_type": "execute_result"
    }
   ],
   "source": [
    "model.compile('sgd', loss='sparse_categorical_crossentropy', metrics=['accuracy'])\n",
    "model.get_weights()"
   ]
  },
  {
   "cell_type": "code",
   "execution_count": 9,
   "metadata": {},
   "outputs": [
    {
     "name": "stdout",
     "output_type": "stream",
     "text": [
      "Epoch 1/15\n",
      "150/150 [==============================] - 2s 10ms/step - loss: 1.9324 - acc: 0.2200\n",
      "Epoch 2/15\n",
      "150/150 [==============================] - 0s 300us/step - loss: 1.0324 - acc: 0.4733\n",
      "Epoch 3/15\n",
      "150/150 [==============================] - 0s 294us/step - loss: 0.8654 - acc: 0.6467\n",
      "Epoch 4/15\n",
      "150/150 [==============================] - 0s 294us/step - loss: 0.7843 - acc: 0.6600\n",
      "Epoch 5/15\n",
      "150/150 [==============================] - 0s 280us/step - loss: 0.6884 - acc: 0.6933\n",
      "Epoch 6/15\n",
      "150/150 [==============================] - 0s 290us/step - loss: 0.6301 - acc: 0.6933\n",
      "Epoch 7/15\n",
      "150/150 [==============================] - 0s 327us/step - loss: 0.5766 - acc: 0.7667\n",
      "Epoch 8/15\n",
      "150/150 [==============================] - 0s 334us/step - loss: 0.5392 - acc: 0.7267\n",
      "Epoch 9/15\n",
      "150/150 [==============================] - 0s 334us/step - loss: 0.5175 - acc: 0.7800\n",
      "Epoch 10/15\n",
      "150/150 [==============================] - 0s 340us/step - loss: 0.4934 - acc: 0.7933\n",
      "Epoch 11/15\n",
      "150/150 [==============================] - 0s 340us/step - loss: 0.4717 - acc: 0.7467\n",
      "Epoch 12/15\n",
      "150/150 [==============================] - 0s 327us/step - loss: 0.4437 - acc: 0.8467\n",
      "Epoch 13/15\n",
      "150/150 [==============================] - 0s 327us/step - loss: 0.4404 - acc: 0.7933\n",
      "Epoch 14/15\n",
      "150/150 [==============================] - 0s 334us/step - loss: 0.4112 - acc: 0.8400\n",
      "Epoch 15/15\n",
      "150/150 [==============================] - 0s 334us/step - loss: 0.4007 - acc: 0.8933\n"
     ]
    },
    {
     "data": {
      "text/plain": [
       "[array([[-0.4533865 ,  0.6259076 ,  0.47035396],\n",
       "        [ 0.07342477,  0.07226886,  1.0309949 ],\n",
       "        [-0.5941769 ,  0.26133582, -0.6802351 ],\n",
       "        [ 0.7043032 ,  1.1230695 , -0.3886871 ]], dtype=float32),\n",
       " array([-0.07555623, -0.10667419,  0.09307626], dtype=float32),\n",
       " array([[-0.5716926 , -0.9458391 , -0.7387383 , -0.3822296 ,  0.55419964],\n",
       "        [-0.6939403 , -0.03216533,  0.3655929 , -0.47334546, -0.24050964],\n",
       "        [ 1.3700138 ,  0.0376025 , -0.6166707 , -0.73029107,  0.39590704]],\n",
       "       dtype=float32),\n",
       " array([ 0.10662965,  0.09545182, -0.13171093, -0.00125662, -0.06911401],\n",
       "       dtype=float32)]"
      ]
     },
     "execution_count": 9,
     "metadata": {},
     "output_type": "execute_result"
    }
   ],
   "source": [
    "model.fit(X_train, y_train, verbose=1, batch_size=5, epochs=15)\n",
    "model.get_weights()"
   ]
  },
  {
   "cell_type": "code",
   "execution_count": 241,
   "metadata": {},
   "outputs": [
    {
     "name": "stdout",
     "output_type": "stream",
     "text": [
      "150/150 [==============================] - 0s 53us/step\n"
     ]
    },
    {
     "data": {
      "text/plain": [
       "array([0, 0, 0, 0, 0, 0, 0, 0, 0, 0, 0, 0, 0, 0, 0, 0, 0, 0, 0, 0, 0, 0,\n",
       "       0, 0, 0, 0, 0, 0, 0, 0, 0, 0, 0, 0, 0, 0, 0, 0, 0, 0, 0, 0, 0, 0,\n",
       "       0, 0, 0, 0, 0, 0, 1, 1, 1, 2, 1, 1, 1, 1, 1, 1, 1, 1, 1, 1, 1, 1,\n",
       "       1, 1, 2, 1, 1, 1, 2, 1, 1, 1, 1, 2, 1, 1, 1, 1, 1, 2, 1, 1, 1, 2,\n",
       "       1, 1, 1, 1, 1, 1, 1, 1, 1, 1, 1, 1, 2, 2, 2, 2, 2, 2, 2, 2, 2, 2,\n",
       "       2, 2, 2, 2, 2, 2, 2, 2, 2, 2, 2, 2, 2, 2, 2, 2, 2, 2, 2, 2, 2, 2,\n",
       "       2, 2, 2, 2, 2, 2, 2, 2, 2, 2, 2, 2, 2, 2, 2, 2, 2, 2], dtype=int64)"
      ]
     },
     "execution_count": 241,
     "metadata": {},
     "output_type": "execute_result"
    }
   ],
   "source": [
    "model.predict_classes(X_train, verbose=True)"
   ]
  },
  {
   "cell_type": "code",
   "execution_count": 172,
   "metadata": {},
   "outputs": [
    {
     "data": {
      "text/plain": [
       "array([0, 0, 0, 0, 0, 0, 0, 0, 0, 0, 0, 0, 0, 0, 0, 0, 0, 0, 0, 0, 0, 0,\n",
       "       0, 0, 0, 0, 0, 0, 0, 0, 0, 0, 0, 0, 0, 0, 0, 0, 0, 0, 0, 0, 0, 0,\n",
       "       0, 0, 0, 0, 0, 0, 1, 1, 1, 1, 1, 1, 1, 1, 1, 1, 1, 1, 1, 1, 1, 1,\n",
       "       1, 1, 1, 1, 1, 1, 1, 1, 1, 1, 1, 1, 1, 1, 1, 1, 1, 1, 1, 1, 1, 1,\n",
       "       1, 1, 1, 1, 1, 1, 1, 1, 1, 1, 1, 1, 2, 2, 2, 2, 2, 2, 2, 2, 2, 2,\n",
       "       2, 2, 2, 2, 2, 2, 2, 2, 2, 2, 2, 2, 2, 2, 2, 2, 2, 2, 2, 2, 2, 2,\n",
       "       2, 2, 2, 2, 2, 2, 2, 2, 2, 2, 2, 2, 2, 2, 2, 2, 2, 2])"
      ]
     },
     "execution_count": 172,
     "metadata": {},
     "output_type": "execute_result"
    }
   ],
   "source": [
    "y_train"
   ]
  }
 ],
 "metadata": {
  "kernelspec": {
   "display_name": "Python 3",
   "language": "python",
   "name": "python3"
  },
  "language_info": {
   "codemirror_mode": {
    "name": "ipython",
    "version": 3
   },
   "file_extension": ".py",
   "mimetype": "text/x-python",
   "name": "python",
   "nbconvert_exporter": "python",
   "pygments_lexer": "ipython3",
   "version": "3.6.5"
  }
 },
 "nbformat": 4,
 "nbformat_minor": 2
}
